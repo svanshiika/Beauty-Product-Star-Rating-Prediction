{
 "cells": [
  {
   "cell_type": "code",
   "execution_count": null,
   "id": "c0355087",
   "metadata": {},
   "outputs": [],
   "source": []
  },
  {
   "cell_type": "code",
   "execution_count": 1,
   "id": "38fc8fbc",
   "metadata": {},
   "outputs": [],
   "source": [
    "import pandas as pd\n",
    "\n",
    "# Load Reviews\n",
    "reviews_df = pd.read_json(r\"C:\\Users\\HP\\Documents\\BSc in Data Science\\Year 2\\Semester 4\\Data Mining & Machine Learning\\All_Beauty.json\\All_Beauty.json\", lines=True)\n",
    "\n",
    "# Load Metadata\n",
    "metadata_df = pd.read_json(r\"C:\\Users\\HP\\Documents\\BSc in Data Science\\Year 2\\Semester 4\\Data Mining & Machine Learning\\meta_All_Beauty.json\\meta_All_Beauty.json\", lines=True)\n"
   ]
  },
  {
   "cell_type": "code",
   "execution_count": 2,
   "id": "6c4bae9e",
   "metadata": {},
   "outputs": [],
   "source": [
    "# Convert reviewTime to datetime (assuming reviewTime is a string like \"MM DD, YYYY\")\n",
    "reviews_df['reviewTime'] = pd.to_datetime(reviews_df['reviewTime'], format='%m %d, %Y')\n",
    "\n",
    "# If instead using unixReviewTime:\n",
    "# reviews_df['reviewTime'] = pd.to_datetime(reviews_df['unixReviewTime'], unit='s')\n",
    "\n",
    "# Filter reviews to only those in 2017 or 2018\n",
    "mask = (reviews_df['reviewTime'] >= '2017-01-01') & (reviews_df['reviewTime'] <= '2018-12-31')\n",
    "reviews_17_18 = reviews_df.loc[mask].copy()\n"
   ]
  },
  {
   "cell_type": "code",
   "execution_count": 3,
   "id": "4dd9f466",
   "metadata": {},
   "outputs": [
    {
     "name": "stdout",
     "output_type": "stream",
     "text": [
      "2017-01-01 00:00:00 to 2018-10-02 00:00:00\n",
      "Number of reviews (2017-2018): 100631\n"
     ]
    }
   ],
   "source": [
    "print(reviews_17_18['reviewTime'].min(), \"to\", reviews_17_18['reviewTime'].max())\n",
    "print(\"Number of reviews (2017-2018):\", len(reviews_17_18))\n"
   ]
  },
  {
   "cell_type": "code",
   "execution_count": 4,
   "id": "aa4310d2",
   "metadata": {},
   "outputs": [
    {
     "name": "stdout",
     "output_type": "stream",
     "text": [
      "Combined shape: (103414, 30)\n",
      "Index(['overall', 'verified', 'reviewTime', 'reviewerID', 'asin',\n",
      "       'reviewerName', 'reviewText', 'summary', 'unixReviewTime', 'vote',\n",
      "       'style', 'image', 'category', 'tech1', 'description', 'fit', 'title',\n",
      "       'also_buy', 'tech2', 'brand', 'feature', 'rank', 'also_view', 'details',\n",
      "       'main_cat', 'similar_item', 'date', 'price', 'imageURL',\n",
      "       'imageURLHighRes'],\n",
      "      dtype='object')\n"
     ]
    }
   ],
   "source": [
    "# Merge the reviews with metadata on 'asin'\n",
    "combined_df = pd.merge(reviews_17_18, metadata_df, on='asin', how='inner')\n",
    "\n",
    "# Check the result\n",
    "print(\"Combined shape:\", combined_df.shape)\n",
    "print(combined_df.columns)\n"
   ]
  },
  {
   "cell_type": "code",
   "execution_count": 5,
   "id": "56a26b0f",
   "metadata": {},
   "outputs": [],
   "source": [
    "# Select only the needed columns\n",
    "combined_df = combined_df[['asin', 'reviewText', 'summary', 'price', 'brand', 'title']]\n",
    "\n",
    "# Optional: drop any remaining missing values (if any)\n",
    "combined_df = combined_df.dropna(subset=['price','brand','title'])\n"
   ]
  },
  {
   "cell_type": "code",
   "execution_count": 7,
   "id": "b8f877f3",
   "metadata": {},
   "outputs": [
    {
     "data": {
      "text/html": [
       "<div>\n",
       "<style scoped>\n",
       "    .dataframe tbody tr th:only-of-type {\n",
       "        vertical-align: middle;\n",
       "    }\n",
       "\n",
       "    .dataframe tbody tr th {\n",
       "        vertical-align: top;\n",
       "    }\n",
       "\n",
       "    .dataframe thead th {\n",
       "        text-align: right;\n",
       "    }\n",
       "</style>\n",
       "<table border=\"1\" class=\"dataframe\">\n",
       "  <thead>\n",
       "    <tr style=\"text-align: right;\">\n",
       "      <th></th>\n",
       "      <th>asin</th>\n",
       "      <th>reviewText</th>\n",
       "      <th>summary</th>\n",
       "      <th>price</th>\n",
       "      <th>brand</th>\n",
       "      <th>title</th>\n",
       "    </tr>\n",
       "  </thead>\n",
       "  <tbody>\n",
       "    <tr>\n",
       "      <th>0</th>\n",
       "      <td>9790787006</td>\n",
       "      <td>I love Jenna ! But this just out right sucks !...</td>\n",
       "      <td>Old baby powder</td>\n",
       "      <td>$13.85</td>\n",
       "      <td>Jenna Jameson</td>\n",
       "      <td>Jenna Jameson Heartbreaker Perfume for women 3...</td>\n",
       "    </tr>\n",
       "    <tr>\n",
       "      <th>1</th>\n",
       "      <td>9790787006</td>\n",
       "      <td>I really want to thank the writers of fragranc...</td>\n",
       "      <td>Sexy and Comforting...All In One!</td>\n",
       "      <td>$13.85</td>\n",
       "      <td>Jenna Jameson</td>\n",
       "      <td>Jenna Jameson Heartbreaker Perfume for women 3...</td>\n",
       "    </tr>\n",
       "    <tr>\n",
       "      <th>2</th>\n",
       "      <td>9790787006</td>\n",
       "      <td>I'm sorry but this perfume is awful! It's too ...</td>\n",
       "      <td>Dont waste your money</td>\n",
       "      <td>$13.85</td>\n",
       "      <td>Jenna Jameson</td>\n",
       "      <td>Jenna Jameson Heartbreaker Perfume for women 3...</td>\n",
       "    </tr>\n",
       "    <tr>\n",
       "      <th>3</th>\n",
       "      <td>9790787006</td>\n",
       "      <td>I love it when my wife wears this perfume. It'...</td>\n",
       "      <td>I love it when my wife wears this perfume</td>\n",
       "      <td>$13.85</td>\n",
       "      <td>Jenna Jameson</td>\n",
       "      <td>Jenna Jameson Heartbreaker Perfume for women 3...</td>\n",
       "    </tr>\n",
       "    <tr>\n",
       "      <th>4</th>\n",
       "      <td>9790787006</td>\n",
       "      <td>At first spray, it's kinda, ummhhmm? Then as i...</td>\n",
       "      <td>Love it, keep selling!</td>\n",
       "      <td>$13.85</td>\n",
       "      <td>Jenna Jameson</td>\n",
       "      <td>Jenna Jameson Heartbreaker Perfume for women 3...</td>\n",
       "    </tr>\n",
       "  </tbody>\n",
       "</table>\n",
       "</div>"
      ],
      "text/plain": [
       "         asin                                         reviewText  \\\n",
       "0  9790787006  I love Jenna ! But this just out right sucks !...   \n",
       "1  9790787006  I really want to thank the writers of fragranc...   \n",
       "2  9790787006  I'm sorry but this perfume is awful! It's too ...   \n",
       "3  9790787006  I love it when my wife wears this perfume. It'...   \n",
       "4  9790787006  At first spray, it's kinda, ummhhmm? Then as i...   \n",
       "\n",
       "                                     summary   price          brand  \\\n",
       "0                            Old baby powder  $13.85  Jenna Jameson   \n",
       "1          Sexy and Comforting...All In One!  $13.85  Jenna Jameson   \n",
       "2                      Dont waste your money  $13.85  Jenna Jameson   \n",
       "3  I love it when my wife wears this perfume  $13.85  Jenna Jameson   \n",
       "4                     Love it, keep selling!  $13.85  Jenna Jameson   \n",
       "\n",
       "                                               title  \n",
       "0  Jenna Jameson Heartbreaker Perfume for women 3...  \n",
       "1  Jenna Jameson Heartbreaker Perfume for women 3...  \n",
       "2  Jenna Jameson Heartbreaker Perfume for women 3...  \n",
       "3  Jenna Jameson Heartbreaker Perfume for women 3...  \n",
       "4  Jenna Jameson Heartbreaker Perfume for women 3...  "
      ]
     },
     "execution_count": 7,
     "metadata": {},
     "output_type": "execute_result"
    }
   ],
   "source": [
    "combined_df.head()"
   ]
  },
  {
   "cell_type": "code",
   "execution_count": 8,
   "id": "484fd5c1",
   "metadata": {},
   "outputs": [
    {
     "data": {
      "text/plain": [
       "(103414, 6)"
      ]
     },
     "execution_count": 8,
     "metadata": {},
     "output_type": "execute_result"
    }
   ],
   "source": [
    "combined_df.shape"
   ]
  },
  {
   "cell_type": "code",
   "execution_count": 9,
   "id": "2578ab91",
   "metadata": {},
   "outputs": [
    {
     "data": {
      "text/plain": [
       "asin            0\n",
       "reviewText    153\n",
       "summary        89\n",
       "price           0\n",
       "brand           0\n",
       "title           0\n",
       "dtype: int64"
      ]
     },
     "execution_count": 9,
     "metadata": {},
     "output_type": "execute_result"
    }
   ],
   "source": [
    "combined_df.isnull().sum()\n"
   ]
  },
  {
   "cell_type": "code",
   "execution_count": 16,
   "id": "da33948c",
   "metadata": {},
   "outputs": [
    {
     "data": {
      "text/plain": [
       "(63079, 6)"
      ]
     },
     "execution_count": 16,
     "metadata": {},
     "output_type": "execute_result"
    }
   ],
   "source": [
    "# 1. Count how many times each title appears\n",
    "title_counts = combined_df['title'].value_counts()\n",
    "\n",
    "# 2. Get titles that appear more than 20 times\n",
    "titles_to_keep = title_counts[title_counts > 20].index\n",
    "\n",
    "# 3. Filter the DataFrame to keep only those rows\n",
    "filtered_df = combined_df[combined_df['title'].isin(titles_to_keep)]\n",
    "\n",
    "filtered_df.shape\n"
   ]
  },
  {
   "cell_type": "code",
   "execution_count": 17,
   "id": "26059dae",
   "metadata": {},
   "outputs": [],
   "source": [
    "# Export the combined DataFrame to CSV\n",
    "filtered_df.to_csv('amazon_reviews_2017_2018_with_metadata.csv', index=False)\n"
   ]
  },
  {
   "cell_type": "code",
   "execution_count": null,
   "id": "f5680f34",
   "metadata": {},
   "outputs": [],
   "source": []
  }
 ],
 "metadata": {
  "kernelspec": {
   "display_name": "Python 3 (ipykernel)",
   "language": "python",
   "name": "python3"
  },
  "language_info": {
   "codemirror_mode": {
    "name": "ipython",
    "version": 3
   },
   "file_extension": ".py",
   "mimetype": "text/x-python",
   "name": "python",
   "nbconvert_exporter": "python",
   "pygments_lexer": "ipython3",
   "version": "3.11.5"
  }
 },
 "nbformat": 4,
 "nbformat_minor": 5
}
