{
 "cells": [
  {
   "cell_type": "code",
   "execution_count": null,
   "id": "3f258099",
   "metadata": {},
   "outputs": [],
   "source": [
    "import pandas as pd\n",
    "\n",
    "# Step 1: Load the CSV file\n",
    "df = pd.read_csv(\"amazon_reviews_2017_2018_with_metadata.csv\")\n",
    "\n",
    "# Step 2: Combine review text and summary for deduplication\n",
    "df['full_text'] = df['summary'].fillna('') + \" \" + df['reviewText'].fillna('')\n",
    "\n",
    "# Step 3: Remove duplicates based on full_text + asin + brand + title + price\n",
    "df = df.drop_duplicates(subset=['full_text', 'asin', 'brand', 'title', 'price'])\n",
    "\n",
    "# Step 4: Drop the temporary full_text column\n",
    "df = df.drop(columns=['full_text'])\n",
    "\n",
    "# Step 5: Reset index for cleanliness\n",
    "df.reset_index(drop=True, inplace=True)\n",
    "\n",
    "# Step 6: Save the cleaned dataset\n",
    "df.to_csv(\"cleaned_amazon_reviews_2017_2018.csv\", index=False)\n",
    "\n",
    "print(\"Cleaned dataset saved! Final shape:\", df.shape)"
   ]
  }
 ],
 "metadata": {
  "kernelspec": {
   "display_name": "Python 3 (ipykernel)",
   "language": "python",
   "name": "python3"
  },
  "language_info": {
   "codemirror_mode": {
    "name": "ipython",
    "version": 3
   },
   "file_extension": ".py",
   "mimetype": "text/x-python",
   "name": "python",
   "nbconvert_exporter": "python",
   "pygments_lexer": "ipython3",
   "version": "3.11.5"
  }
 },
 "nbformat": 4,
 "nbformat_minor": 5
}
